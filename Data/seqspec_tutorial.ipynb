{
 "cells": [
  {
   "cell_type": "markdown",
   "id": "f6633f0a-c377-422b-8512-ea395a30ffbc",
   "metadata": {},
   "source": [
    "## Minimal SeqSpec requirements for the Single Cell Perturb-Seq running"
   ]
  },
  {
   "cell_type": "markdown",
   "id": "4074bcd9-b2f1-4dd1-8c21-bd94d371a166",
   "metadata": {},
   "source": [
    "Create a SeqSpec file for each of the 3 modalities\n",
    "- All the samples are 10xv3 5'\n",
    "- Read1 has the CB(16) and the UMI (12)\n",
    "The R2 stores the information about\n",
    "    - scRNA (FULL read 92 bp)\n",
    "    - Hashing (HTO 15 bp after a 10bp common sequence )\n",
    "    - Guide (Guide is a 20bp sequence after a 63bp common construct region)\n"
   ]
  },
  {
   "cell_type": "code",
   "execution_count": 61,
   "id": "702d54a9-a3e5-4369-8cf3-b6a924a51dd7",
   "metadata": {},
   "outputs": [],
   "source": [
    "#Talks about the guide trick! This is allow kallisto extract it\n",
    "#Use CDNA to extract automatically the regions (even if this is a guide or hto use the term cdna)"
   ]
  },
  {
   "cell_type": "markdown",
   "id": "8324b18f-55dc-48fe-83f7-904607fbbf8a",
   "metadata": {},
   "source": [
    "## This is an example of a SeqSpec file for a HTO design"
   ]
  },
  {
   "cell_type": "code",
   "execution_count": 62,
   "id": "b791e235-966d-4f49-b173-acd873c396ba",
   "metadata": {},
   "outputs": [
    {
     "name": "stdout",
     "output_type": "stream",
     "text": [
      "Writing hto.yaml\n"
     ]
    }
   ],
   "source": [
    "%%writefile hto.yaml\n",
    "!Assay\n",
    "seqspec_version: 0.2.0\n",
    "assay_id: MULTISEQ_10XV3_Hashing\n",
    "name: MULTISEQ_10XV3_Hashing\n",
    "doi: 'XXX'\n",
    "date: 15 July 2022\n",
    "description: Hashing using 10x5'v3\n",
    "modalities:\n",
    "- hashing\n",
    "lib_struct: https://teichlab.github.io/scg_lib_structs/methods_html/10xChromium3.html\n",
    "sequence_protocol: Not-specified\n",
    "sequence_kit: Not-specified\n",
    "library_protocol: 10xv3 Hashing\n",
    "library_kit: Not-specified\n",
    "sequence_spec:\n",
    "- !Read\n",
    "  read_id: hash_R1.fq\n",
    "  name: Read 1\n",
    "  modality: hashing\n",
    "  primer_id: r1_primer\n",
    "  min_len: 28\n",
    "  max_len: 28\n",
    "  strand: pos\n",
    "- !Read\n",
    "  read_id: hash_R2.fq\n",
    "  name: Read 2\n",
    "  modality: hashing\n",
    "  primer_id: r2_primer\n",
    "  min_len: 25\n",
    "  max_len: 25\n",
    "  strand: neg\n",
    "library_spec:\n",
    "- !Region\n",
    "  parent_id: null\n",
    "  region_id: hashing\n",
    "  region_type: null\n",
    "  name: null\n",
    "  sequence_type: null\n",
    "  sequence: null\n",
    "  min_len: 53\n",
    "  max_len: 53\n",
    "  onlist: null\n",
    "  regions:\n",
    "  - !Region\n",
    "    parent_id: hashing\n",
    "    region_id: r1_primer\n",
    "    region_type: r1_primer\n",
    "    name: r1_primer\n",
    "    sequence_type: fixed\n",
    "    sequence: null\n",
    "    min_len: 0\n",
    "    max_len: 0\n",
    "    onlist: null\n",
    "    regions: null\n",
    "  - !Region\n",
    "    parent_id: hashing\n",
    "    region_id: barcode\n",
    "    region_type: barcode\n",
    "    name: barcode\n",
    "    sequence_type: onlist\n",
    "    sequence: NNNNNNNNNNNNNNNN\n",
    "    min_len: 16\n",
    "    max_len: 16\n",
    "    onlist: !Onlist\n",
    "      location: remote\n",
    "      filename: 737K-august-2016.txt\n",
    "    regions: null\n",
    "  - !Region\n",
    "    parent_id: hashing\n",
    "    region_id: umi\n",
    "    region_type: umi\n",
    "    name: umi\n",
    "    sequence_type: fixed\n",
    "    sequence: NNNNNNNNNNNN\n",
    "    min_len: 12\n",
    "    max_len: 12\n",
    "    onlist: null\n",
    "    regions: null\n",
    "  - !Region\n",
    "    parent_id: hashing\n",
    "    region_id: cdna\n",
    "    region_type: cdna\n",
    "    name: cdna\n",
    "    sequence_type: random\n",
    "    sequence: NNNNNNNNNNNNNNN\n",
    "    min_len: 15\n",
    "    max_len: 15\n",
    "    onlist: !Onlist\n",
    "      location: remote\n",
    "      filename: HTO_medatada.txt\n",
    "    regions: null\n",
    "  - !Region\n",
    "    parent_id: hashing\n",
    "    region_id: common\n",
    "    region_type: common\n",
    "    name: common\n",
    "    sequence_type: fixed\n",
    "    sequence: NNNNNNNNNN\n",
    "    min_len: 10\n",
    "    max_len: 10\n",
    "    onlist: null\n",
    "    regions: null\n",
    "  - !Region\n",
    "    parent_id: hashing\n",
    "    region_id: r2_primer\n",
    "    region_type: r2_primer\n",
    "    name: r2_primer\n",
    "    sequence_type: fixed\n",
    "    sequence: null\n",
    "    min_len: 0\n",
    "    max_len: 0\n",
    "    onlist: null\n",
    "    regions: null\n",
    "\n",
    "\n",
    "\n",
    "\n"
   ]
  },
  {
   "cell_type": "markdown",
   "id": "a1017c46-dc41-422a-b365-aa18c5a2fc7e",
   "metadata": {},
   "source": [
    "## Visualizing the HTO/MULTI SeqSpec"
   ]
  },
  {
   "cell_type": "code",
   "execution_count": 63,
   "id": "5d42721f-7fb4-4c60-be21-1bf4a53dfb2b",
   "metadata": {},
   "outputs": [
    {
     "name": "stdout",
     "output_type": "stream",
     "text": [
      "                                ┌─'r1_primer:0'\n",
      "                                ├─'barcode:16'\n",
      "                                ├─'umi:12'\n",
      "─────────────── ──hashing───────┤\n",
      "                                ├─'cdna:15'\n",
      "                                ├─'common:10'\n",
      "                                └─'r2_primer:0'\n",
      "0,0,16:0,16,28:1,10,25\n"
     ]
    }
   ],
   "source": [
    "!seqspec print multi.yaml\n",
    "!seqspec index -t kb -m hashing -i hash_R1.fq,hash_R2.fq multi.yaml"
   ]
  },
  {
   "cell_type": "markdown",
   "id": "09334108-f922-48ef-9c18-67cd6bd12169",
   "metadata": {},
   "source": [
    "## Lets create  the seqspec for the other two modalities\n",
    "\n",
    "### guide.yaml  \n",
    "    - CB (18) and UMI (12) are standard to 10xv3  \n",
    "    - 63bp construct  \n",
    "    - 20bp guide   \n",
    "\n",
    "### scRNA.yaml  \n",
    "    - CB (18) and UMI (12) are standard to 10xv3\n",
    "    - Whole read2 (92bp)   \n",
    "\n"
   ]
  },
  {
   "cell_type": "markdown",
   "id": "0c4492a7-77b9-47b3-ad35-1eb768088373",
   "metadata": {},
   "source": [
    "## Use the following cells to  create your seqspecs and test it"
   ]
  },
  {
   "cell_type": "markdown",
   "id": "15cb384b-fd61-4af2-ae9e-cb638295bb7a",
   "metadata": {},
   "source": [
    "### Guide"
   ]
  },
  {
   "cell_type": "code",
   "execution_count": 64,
   "id": "2b05b59c-c6f4-4501-9edd-49ad70c5856e",
   "metadata": {},
   "outputs": [
    {
     "name": "stdout",
     "output_type": "stream",
     "text": [
      "Writing guide.yaml\n"
     ]
    }
   ],
   "source": [
    "%%writefile  guide.yaml\n",
    "\n",
    "\n",
    "\n",
    "\n"
   ]
  },
  {
   "cell_type": "code",
   "execution_count": null,
   "id": "b27422c3-1c1b-45b5-b33f-5ccd37ee6f22",
   "metadata": {},
   "outputs": [],
   "source": [
    "!seqspec print guide.yaml\n",
    "!seqspec index -t kb -m guide -i guide_R1.fq,guide_R2.fq guide.yaml"
   ]
  },
  {
   "cell_type": "markdown",
   "id": "a2d47c39-146c-4ef1-8053-ee303b14529c",
   "metadata": {},
   "source": [
    "## rna"
   ]
  },
  {
   "cell_type": "code",
   "execution_count": 66,
   "id": "df8e73ad-08b4-473a-9219-fbebaa4773e0",
   "metadata": {},
   "outputs": [
    {
     "name": "stdout",
     "output_type": "stream",
     "text": [
      "Writing rna.yaml\n"
     ]
    }
   ],
   "source": [
    "%%writefile  rna.yaml\n",
    "\n",
    "\n",
    "\n"
   ]
  },
  {
   "cell_type": "code",
   "execution_count": null,
   "id": "8c19dd0b-de5b-495c-b9c2-da0a124f7765",
   "metadata": {},
   "outputs": [],
   "source": [
    "!seqspec print rna.yaml\n",
    "!seqspec index -t kb -m rna -i scRNA_R1.fq,scRNA_R2.fq rna.yaml"
   ]
  },
  {
   "cell_type": "code",
   "execution_count": null,
   "id": "d556ed1a-40f3-45ea-a0d3-1ebff2fc31de",
   "metadata": {},
   "outputs": [],
   "source": []
  },
  {
   "cell_type": "code",
   "execution_count": null,
   "id": "d0973da3-94fb-4b31-a61a-b067ea097181",
   "metadata": {},
   "outputs": [],
   "source": []
  },
  {
   "cell_type": "code",
   "execution_count": null,
   "id": "34c8ed67-94d1-459d-bfda-ced696d4cd55",
   "metadata": {},
   "outputs": [],
   "source": []
  },
  {
   "cell_type": "code",
   "execution_count": null,
   "id": "c2a8c622-06a4-4581-9ecc-71a27c9ad6ce",
   "metadata": {},
   "outputs": [],
   "source": []
  }
 ],
 "metadata": {
  "kernelspec": {
   "display_name": "Python 3 (ipykernel)",
   "language": "python",
   "name": "python3"
  },
  "language_info": {
   "codemirror_mode": {
    "name": "ipython",
    "version": 3
   },
   "file_extension": ".py",
   "mimetype": "text/x-python",
   "name": "python",
   "nbconvert_exporter": "python",
   "pygments_lexer": "ipython3",
   "version": "3.11.6"
  }
 },
 "nbformat": 4,
 "nbformat_minor": 5
}
